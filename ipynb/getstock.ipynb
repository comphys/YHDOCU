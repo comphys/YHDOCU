{
 "cells": [
  {
   "cell_type": "markdown",
   "source": [
    "주식정보 가져오기 : financeDatareader "
   ],
   "metadata": {}
  },
  {
   "cell_type": "code",
   "execution_count": 4,
   "source": [
    "import FinanceDataReader as fdr\r\n",
    "\r\n",
    "code = \"TQQQ\"\r\n",
    "df = fdr.DataReader(code,start=None, end='2010-02-26')\r\n",
    "print(df)\r\n"
   ],
   "outputs": [
    {
     "output_type": "stream",
     "name": "stdout",
     "text": [
      "            Close  Open  High   Low      Volume  Change\n",
      "Date                                                   \n",
      "2010-02-11   0.87  0.81  0.87  0.81   1730000.0 -0.9865\n",
      "2010-02-12   0.87  0.84  0.88  0.84   4300000.0  0.0000\n",
      "2010-02-16   0.90  0.89  0.90  0.88   4810000.0  0.0345\n",
      "2010-02-17   0.92  0.91  0.92  0.90   9590000.0  0.0222\n",
      "2010-02-18   0.93  0.92  0.94  0.91  19430000.0  0.0109\n",
      "2010-02-19   0.93  0.93  0.95  0.92  23240000.0  0.0000\n",
      "2010-02-22   0.93  0.95  0.95  0.92  12750000.0  0.0000\n",
      "2010-02-23   0.89  0.92  0.93  0.88  20560000.0 -0.0430\n",
      "2010-02-24   0.92  0.91  0.93  0.90  17660000.0  0.0337\n",
      "2010-02-25   0.92  0.89  0.92  0.87  22810000.0  0.0000\n",
      "2010-02-26   0.93  0.92  0.93  0.91  14400000.0  0.0109\n"
     ]
    }
   ],
   "metadata": {}
  },
  {
   "cell_type": "code",
   "execution_count": null,
   "source": [
    "data_field  = list(df.columns)\r\n",
    "data_field.insert(0,'Date')\r\n",
    "data_index  = [x.strftime('%Y-%m-%d') for x in df.index]\r\n",
    "df = df.astype({'Volume':'int'})\r\n",
    "# mydata      = df.to_dict('series')\r\n",
    "\r\n",
    "data_db_in  = list(zip(data_index, df['Close'], df['Open'], df['High'], df['Low'], df['Volume'], df['Change'] ))\r\n",
    "\r\n",
    "print(f\"{data_field[0]:>10s}\",f\"{data_field[1]:>10s}\",f\"{data_field[2]:>10s}\",f\"{data_field[3]:>10s}\",f\"{data_field[4]:>10s}\",f\"{data_field[5]:>10s}\",f\"{data_field[6]:>10s}\")\r\n",
    "for row in data_db_in :\r\n",
    "    print(f\"{row[0]:10s}\", f\"{row[1]:10.2f}\", f\"{row[2]:10.2f}\", f\"{row[3]:10.2f}\", f\"{row[4]:10.2f}\", f\"{row[5]:10d}\", f\"{row[6]*100:10.2f}\")"
   ],
   "outputs": [],
   "metadata": {}
  }
 ],
 "metadata": {
  "orig_nbformat": 4,
  "language_info": {
   "name": "python",
   "version": "3.9.5",
   "mimetype": "text/x-python",
   "codemirror_mode": {
    "name": "ipython",
    "version": 3
   },
   "pygments_lexer": "ipython3",
   "nbconvert_exporter": "python",
   "file_extension": ".py"
  },
  "kernelspec": {
   "name": "python3",
   "display_name": "Python 3.9.5 32-bit"
  },
  "interpreter": {
   "hash": "805f11c72160c9142408c26b3a0b7b4214d8a6956988520a24685f08e83b9fca"
  }
 },
 "nbformat": 4,
 "nbformat_minor": 2
}