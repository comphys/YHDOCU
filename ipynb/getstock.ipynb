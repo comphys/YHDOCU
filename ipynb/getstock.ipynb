{
 "cells": [
  {
   "cell_type": "markdown",
   "metadata": {},
   "source": [
    "주식정보 가져오기 : financeDatareader "
   ]
  },
  {
   "cell_type": "code",
   "execution_count": 68,
   "metadata": {},
   "outputs": [
    {
     "data": {
      "text/plain": [
       "[['2022-10-03', 9.09, 10.0, 8.88, 9.7, 126786100, 0.0, 1, 0],\n",
       " ['2022-10-04', 10.58, 11.1, 10.54, 11.04, 114533100, 0.1381, 2, 0],\n",
       " ['2022-10-05', 10.53, 11.66, 10.21, 11.42, 110030200, 0.0344, 3, 0],\n",
       " ['2022-10-06', 11.29, 11.92, 11.05, 11.19, 117138000, -0.0201, 0, 1],\n",
       " ['2022-10-07', 10.18, 10.28, 9.0, 9.21, 134291600, -0.1769, 0, 2],\n",
       " ['2022-10-10', 9.07, 9.09, 7.86, 8.28, 163448700, -0.101, 0, 3],\n",
       " ['2022-10-11', 7.81, 8.02, 7.2, 7.57, 186475200, -0.0857, 0, 4],\n",
       " ['2022-10-12', 7.49, 7.62, 7.23, 7.34, 110516500, -0.0304, 0, 5],\n",
       " ['2022-10-13', 6.42, 8.36, 6.21, 8.0, 284532700, 0.0899, 1, 0],\n",
       " ['2022-10-14', 8.26, 8.27, 6.87, 6.93, 176295700, -0.1338, 0, 1],\n",
       " ['2022-10-17', 7.47, 7.67, 7.2, 7.33, 113321500, 0.0577, 1, 0],\n",
       " ['2022-10-18', 8.04, 8.21, 7.04, 7.4, 185506400, 0.0095, 2, 0],\n",
       " ['2022-10-19', 7.27, 7.8, 7.2, 7.57, 134272400, 0.023, 3, 0],\n",
       " ['2022-10-20', 7.7, 8.42, 7.59, 7.7, 170614600, 0.0172, 4, 0],\n",
       " ['2022-10-21', 7.65, 8.64, 7.55, 8.58, 177518600, 0.1143, 5, 0],\n",
       " ['2022-10-24', 8.64, 8.81, 8.08, 8.68, 147205700, 0.0117, 6, 0],\n",
       " ['2022-10-25', 8.8, 9.47, 8.75, 9.26, 127146900, 0.0668, 7, 0],\n",
       " ['2022-10-26', 8.74, 9.67, 8.55, 9.01, 143571600, -0.027, 0, 1],\n",
       " ['2022-10-27', 9.16, 9.44, 8.48, 8.52, 129662300, -0.0544, 0, 2],\n",
       " ['2022-10-28', 8.56, 9.56, 8.49, 9.5, 128759900, 0.115, 1, 0]]"
      ]
     },
     "execution_count": 68,
     "metadata": {},
     "output_type": "execute_result"
    }
   ],
   "source": [
    "import FinanceDataReader as fdr\n",
    "\n",
    "\n",
    "code = \"SOXL\"\n",
    "df = fdr.DataReader(code,start='2022-10-01')\n",
    "# open, high, low, close, Adj Close, Volume\n",
    "\n",
    "Str_Date    = [x.strftime('%Y-%m-%d') for x in df.index]\n",
    "cnt = len(Str_Date)\n",
    "df['Str_Date'] = Str_Date\n",
    "# df.set_index('Str_Date',inplace=True)\n",
    "\n",
    "df['Change'] = [0.0]*cnt\n",
    "df['Up']     = [0]*cnt\n",
    "df['Dn']     = [0]*cnt\n",
    "\n",
    "df['Open']  = round(df['Open'],2)\n",
    "df['High']  = round(df['High'],2)\n",
    "df['Low']   = round(df['Low'],2)\n",
    "df['Close'] = round(df['Close'],2)\n",
    "\n",
    "df.drop('Adj Close',axis=1,inplace=True)\n",
    "df = df[['Str_Date','Open','High','Low','Close','Volume','Change','Up','Dn']]\n",
    "dflist = df.values.tolist()\n",
    "\n",
    "dflist[0][7] = 1\n",
    "dflist[0][8] = 0\n",
    "\n",
    "for i in range(1,cnt) :\n",
    "    dflist[i][6]  = round((dflist[i][4] - dflist[i-1][4])/dflist[i-1][4],4)\n",
    "    dflist[i][7]  = dflist[i-1][7]+1 if dflist[i][4] >= dflist[i-1][4] else 0\n",
    "    dflist[i][8]  = dflist[i-1][8]+1 if dflist[i][4] <  dflist[i-1][4] else 0\n",
    "\n",
    "dflist"
   ]
  }
 ],
 "metadata": {
  "kernelspec": {
   "display_name": "Python 3.9.5 32-bit",
   "language": "python",
   "name": "python3"
  },
  "language_info": {
   "codemirror_mode": {
    "name": "ipython",
    "version": 3
   },
   "file_extension": ".py",
   "mimetype": "text/x-python",
   "name": "python",
   "nbconvert_exporter": "python",
   "pygments_lexer": "ipython3",
   "version": "3.9.5"
  },
  "orig_nbformat": 4,
  "vscode": {
   "interpreter": {
    "hash": "16a1bf9891e55cb9d59b6e72e9daba4d5e4b2f89d5ce3a1e1feef0aaadb1729a"
   }
  }
 },
 "nbformat": 4,
 "nbformat_minor": 2
}
