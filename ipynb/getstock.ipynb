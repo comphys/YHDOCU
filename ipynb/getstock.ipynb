{
 "cells": [
  {
   "cell_type": "markdown",
   "metadata": {},
   "source": [
    "주식정보 가져오기 : financeDatareader "
   ]
  },
  {
   "cell_type": "code",
   "execution_count": null,
   "metadata": {},
   "outputs": [],
   "source": [
    "import FinanceDataReader as fdr\n",
    "\n",
    "code = \"TQQQ\"\n",
    "df = fdr.DataReader(code,start=None, end='2010-02-26')\n",
    "print(df)\n"
   ]
  },
  {
   "cell_type": "code",
   "execution_count": null,
   "metadata": {},
   "outputs": [],
   "source": [
    "data_field  = list(df.columns)\n",
    "data_field.insert(0,'Date')\n",
    "data_index  = [x.strftime('%Y-%m-%d') for x in df.index]\n",
    "df = df.astype({'Volume':'int'})\n",
    "# mydata      = df.to_dict('series')\n",
    "\n",
    "data_db_in  = list(zip(data_index, df['Close'], df['Open'], df['High'], df['Low'], df['Volume'], df['Change'] ))\n",
    "\n",
    "print(f\"{data_field[0]:>10s}\",f\"{data_field[1]:>10s}\",f\"{data_field[2]:>10s}\",f\"{data_field[3]:>10s}\",f\"{data_field[4]:>10s}\",f\"{data_field[5]:>10s}\",f\"{data_field[6]:>10s}\")\n",
    "for row in data_db_in :\n",
    "    print(f\"{row[0]:10s}\", f\"{row[1]:10.2f}\", f\"{row[2]:10.2f}\", f\"{row[3]:10.2f}\", f\"{row[4]:10.2f}\", f\"{row[5]:10d}\", f\"{row[6]*100:10.2f}\")"
   ]
  }
 ],
 "metadata": {
  "interpreter": {
   "hash": "805f11c72160c9142408c26b3a0b7b4214d8a6956988520a24685f08e83b9fca"
  },
  "kernelspec": {
   "display_name": "Python 3.9.5 32-bit",
   "name": "python3"
  },
  "language_info": {
   "codemirror_mode": {
    "name": "ipython",
    "version": 3
   },
   "file_extension": ".py",
   "mimetype": "text/x-python",
   "name": "python",
   "nbconvert_exporter": "python",
   "pygments_lexer": "ipython3",
   "version": "3.9.5"
  },
  "orig_nbformat": 4
 },
 "nbformat": 4,
 "nbformat_minor": 2
}
