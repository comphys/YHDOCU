{
 "cells": [
  {
   "cell_type": "markdown",
   "metadata": {},
   "source": [
    "주식정보 가져오기 : financeDatareader "
   ]
  },
  {
   "cell_type": "code",
   "execution_count": 25,
   "metadata": {},
   "outputs": [
    {
     "name": "stdout",
     "output_type": "stream",
     "text": [
      "<class 'list'>\n",
      "('2022-03-01', 41.19, 43.58, 40.38, 42.65, 112470000, 0.047, 0, 0)\n",
      "('2022-03-02', 42.12, 43.17, 40.06, 40.58, 81390000, -0.048, 0, 1)\n",
      "('2022-03-03', 39.59, 42.94, 39.55, 42.27, 87820000, 0.042, 1, 0)\n",
      "('2022-03-04', 43.18, 45.0, 42.64, 44.11, 96600000, 0.043, 2, 0)\n",
      "('2022-03-07', 44.11, 49.08, 43.66, 49.01, 100280000, 0.111, 3, 0)\n",
      "('2022-03-08', 49.36, 51.22, 45.2, 49.67, 131440000, 0.014, 4, 0)\n",
      "('2022-03-09', 45.8, 47.03, 43.68, 44.36, 87300000, -0.107, 0, 1)\n",
      "('2022-03-10', 45.97, 47.6, 45.29, 45.77, 79500000, 0.032, 1, 0)\n"
     ]
    }
   ],
   "source": [
    "import FinanceDataReader as fdr\n",
    "\n",
    "code = \"SQQQ\"\n",
    "df = fdr.DataReader(code,start='2022-03-01', end='2022-03-10')\n",
    "df = df.astype({'Volume':'int'})\n",
    "\n",
    "Close   = list(df['Close'])\n",
    "Open    = list(df['Open'])\n",
    "High    = list(df['High'])\n",
    "Low     = list(df['Low'])\n",
    "Vol     = list(df['Volume'])\n",
    "# Change  = list(df['Change'])\n",
    "Date    = [x.strftime('%Y-%m-%d') for x in df.index]\n",
    "Change  = [round(x,3) for x in df['Change']]\n",
    "\n",
    "cnt = len(Close)\n",
    "Up  = [0]*cnt\n",
    "Dn  = [0]*cnt\n",
    "\n",
    "for i in range(1,cnt) :\n",
    "    if Close[i] <  Close[i-1] : Dn[i] = Dn[i-1] + 1 \n",
    "    if Close[i] >= Close[i-1] : Up[i] = Up[i-1] + 1 \n",
    "\n",
    "col = ['Date','Open','High','Low','Close','Volume','Change','Up','Dn']\n",
    "my_data = list(zip(Date,Open,High,Low,Close,Vol,Change,Up,Dn))\n",
    "\n",
    "for x in my_data : print(x)\n",
    "\n",
    "\n"
   ]
  },
  {
   "cell_type": "code",
   "execution_count": null,
   "metadata": {},
   "outputs": [],
   "source": [
    "# data_field  = list(df.columns)\n",
    "# data_field.insert(0,'Date')\n",
    "# data_index  = [x.strftime('%Y-%m-%d') for x in df.index]\n",
    "# df = df.astype({'Volume':'int'})\n",
    "# mydata      = df.to_dict('series')\n",
    "\n",
    "# data_db_in  = list(zip(data_index, df['Close'], df['Open'], df['High'], df['Low'], df['Volume'], df['Change'] ))\n",
    "\n",
    "# print(f\"{data_field[0]:>10s}\",f\"{data_field[1]:>10s}\",f\"{data_field[2]:>10s}\",f\"{data_field[3]:>10s}\",f\"{data_field[4]:>10s}\",f\"{data_field[5]:>10s}\",f\"{data_field[6]:>10s}\")\n",
    "# for row in data_db_in :\n",
    "    # print(f\"{row[0]:10s}\", f\"{row[1]:10.2f}\", f\"{row[2]:10.2f}\", f\"{row[3]:10.2f}\", f\"{row[4]:10.2f}\", f\"{row[5]:10d}\", f\"{row[6]*100:10.2f}\")"
   ]
  }
 ],
 "metadata": {
  "interpreter": {
   "hash": "805f11c72160c9142408c26b3a0b7b4214d8a6956988520a24685f08e83b9fca"
  },
  "kernelspec": {
   "display_name": "Python 3.9.5 32-bit",
   "name": "python3"
  },
  "language_info": {
   "codemirror_mode": {
    "name": "ipython",
    "version": 3
   },
   "file_extension": ".py",
   "mimetype": "text/x-python",
   "name": "python",
   "nbconvert_exporter": "python",
   "pygments_lexer": "ipython3",
   "version": "3.9.5"
  },
  "orig_nbformat": 4
 },
 "nbformat": 4,
 "nbformat_minor": 2
}
