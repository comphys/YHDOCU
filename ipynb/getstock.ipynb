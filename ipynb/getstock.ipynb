{
 "cells": [
  {
   "cell_type": "markdown",
   "source": [
    "주식정보 가져오기 : financeDatareader "
   ],
   "metadata": {}
  },
  {
   "cell_type": "code",
   "execution_count": 81,
   "source": [
    "import FinanceDataReader as fdr\r\n",
    "\r\n",
    "code = \"TQQQ\"\r\n",
    "df = fdr.DataReader(code,'2021-08-01','2021-08-10')\r\n",
    "df\r\n"
   ],
   "outputs": [
    {
     "output_type": "execute_result",
     "data": {
      "text/html": [
       "<div>\n",
       "<style scoped>\n",
       "    .dataframe tbody tr th:only-of-type {\n",
       "        vertical-align: middle;\n",
       "    }\n",
       "\n",
       "    .dataframe tbody tr th {\n",
       "        vertical-align: top;\n",
       "    }\n",
       "\n",
       "    .dataframe thead th {\n",
       "        text-align: right;\n",
       "    }\n",
       "</style>\n",
       "<table border=\"1\" class=\"dataframe\">\n",
       "  <thead>\n",
       "    <tr style=\"text-align: right;\">\n",
       "      <th></th>\n",
       "      <th>Close</th>\n",
       "      <th>Open</th>\n",
       "      <th>High</th>\n",
       "      <th>Low</th>\n",
       "      <th>Volume</th>\n",
       "      <th>Change</th>\n",
       "    </tr>\n",
       "    <tr>\n",
       "      <th>Date</th>\n",
       "      <th></th>\n",
       "      <th></th>\n",
       "      <th></th>\n",
       "      <th></th>\n",
       "      <th></th>\n",
       "      <th></th>\n",
       "    </tr>\n",
       "  </thead>\n",
       "  <tbody>\n",
       "    <tr>\n",
       "      <th>2021-08-02</th>\n",
       "      <td>132.70</td>\n",
       "      <td>134.61</td>\n",
       "      <td>135.19</td>\n",
       "      <td>132.09</td>\n",
       "      <td>27280000.0</td>\n",
       "      <td>-0.0003</td>\n",
       "    </tr>\n",
       "    <tr>\n",
       "      <th>2021-08-03</th>\n",
       "      <td>135.01</td>\n",
       "      <td>133.54</td>\n",
       "      <td>135.15</td>\n",
       "      <td>129.90</td>\n",
       "      <td>31710000.0</td>\n",
       "      <td>0.0174</td>\n",
       "    </tr>\n",
       "    <tr>\n",
       "      <th>2021-08-04</th>\n",
       "      <td>135.68</td>\n",
       "      <td>135.10</td>\n",
       "      <td>136.75</td>\n",
       "      <td>133.83</td>\n",
       "      <td>24210000.0</td>\n",
       "      <td>0.0050</td>\n",
       "    </tr>\n",
       "    <tr>\n",
       "      <th>2021-08-05</th>\n",
       "      <td>138.23</td>\n",
       "      <td>136.56</td>\n",
       "      <td>138.43</td>\n",
       "      <td>135.87</td>\n",
       "      <td>19340000.0</td>\n",
       "      <td>0.0188</td>\n",
       "    </tr>\n",
       "    <tr>\n",
       "      <th>2021-08-06</th>\n",
       "      <td>136.43</td>\n",
       "      <td>136.79</td>\n",
       "      <td>137.93</td>\n",
       "      <td>135.15</td>\n",
       "      <td>21580000.0</td>\n",
       "      <td>-0.0130</td>\n",
       "    </tr>\n",
       "    <tr>\n",
       "      <th>2021-08-09</th>\n",
       "      <td>137.16</td>\n",
       "      <td>136.93</td>\n",
       "      <td>137.78</td>\n",
       "      <td>135.68</td>\n",
       "      <td>17110000.0</td>\n",
       "      <td>0.0054</td>\n",
       "    </tr>\n",
       "    <tr>\n",
       "      <th>2021-08-10</th>\n",
       "      <td>135.11</td>\n",
       "      <td>137.82</td>\n",
       "      <td>138.08</td>\n",
       "      <td>133.74</td>\n",
       "      <td>26540000.0</td>\n",
       "      <td>-0.0149</td>\n",
       "    </tr>\n",
       "  </tbody>\n",
       "</table>\n",
       "</div>"
      ],
      "text/plain": [
       "             Close    Open    High     Low      Volume  Change\n",
       "Date                                                          \n",
       "2021-08-02  132.70  134.61  135.19  132.09  27280000.0 -0.0003\n",
       "2021-08-03  135.01  133.54  135.15  129.90  31710000.0  0.0174\n",
       "2021-08-04  135.68  135.10  136.75  133.83  24210000.0  0.0050\n",
       "2021-08-05  138.23  136.56  138.43  135.87  19340000.0  0.0188\n",
       "2021-08-06  136.43  136.79  137.93  135.15  21580000.0 -0.0130\n",
       "2021-08-09  137.16  136.93  137.78  135.68  17110000.0  0.0054\n",
       "2021-08-10  135.11  137.82  138.08  133.74  26540000.0 -0.0149"
      ]
     },
     "metadata": {},
     "execution_count": 81
    }
   ],
   "metadata": {}
  },
  {
   "cell_type": "code",
   "execution_count": 86,
   "source": [
    "data_index  = [x.strftime('%Y-%m-%d') for x in df.index]\r\n",
    "data_field  = list(df.columns)\r\n",
    "mydata      = df.to_dict('series')\r\n",
    "\r\n",
    "print(len(df))\r\n",
    "print(data_field)\r\n",
    "print(data_index)\r\n",
    "\r\n",
    "for idx in data_index :\r\n",
    "    print( mydata['Open'][idx],mydata['Low'][idx],mydata['High'][idx],mydata['Close'][idx])\r\n",
    "\r\n",
    "if '2021-0835' in data_index : print(\"Yes\")\r\n",
    "else : print('No')"
   ],
   "outputs": [
    {
     "output_type": "stream",
     "name": "stdout",
     "text": [
      "7\n",
      "['Close', 'Open', 'High', 'Low', 'Volume', 'Change']\n",
      "['2021-08-02', '2021-08-03', '2021-08-04', '2021-08-05', '2021-08-06', '2021-08-09', '2021-08-10']\n",
      "134.61 132.09 135.19 132.7\n",
      "133.54 129.9 135.15 135.01\n",
      "135.1 133.83 136.75 135.68\n",
      "136.56 135.87 138.43 138.23\n",
      "136.79 135.15 137.93 136.43\n",
      "136.93 135.68 137.78 137.16\n",
      "137.82 133.74 138.08 135.11\n",
      "No\n"
     ]
    }
   ],
   "metadata": {}
  },
  {
   "cell_type": "code",
   "execution_count": 87,
   "source": [
    "print(str(data_field))"
   ],
   "outputs": [
    {
     "output_type": "stream",
     "name": "stdout",
     "text": [
      "['Close', 'Open', 'High', 'Low', 'Volume', 'Change']\n"
     ]
    }
   ],
   "metadata": {}
  }
 ],
 "metadata": {
  "orig_nbformat": 4,
  "language_info": {
   "name": "python",
   "version": "3.9.6",
   "mimetype": "text/x-python",
   "codemirror_mode": {
    "name": "ipython",
    "version": 3
   },
   "pygments_lexer": "ipython3",
   "nbconvert_exporter": "python",
   "file_extension": ".py"
  },
  "kernelspec": {
   "name": "python3",
   "display_name": "Python 3.9.6 64-bit"
  },
  "interpreter": {
   "hash": "e277d2d7ce31faf869267101767d00454f77faf1e9f6608a7754283100159e10"
  }
 },
 "nbformat": 4,
 "nbformat_minor": 2
}