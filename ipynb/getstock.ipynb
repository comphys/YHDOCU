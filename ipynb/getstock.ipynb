{
 "cells": [
  {
   "cell_type": "markdown",
   "metadata": {},
   "source": [
    "주식정보 가져오기 : financeDatareader "
   ]
  },
  {
   "cell_type": "code",
   "execution_count": 29,
   "metadata": {},
   "outputs": [
    {
     "name": "stdout",
     "output_type": "stream",
     "text": [
      "('2022-03-01', 40.78, 41.3, 35.35, 36.58, 46390000, -0.108, 0, 0)\n",
      "('2022-03-02', 37.47, 40.88, 37.23, 40.12, 41310000, 0.097, 1, 0)\n",
      "('2022-03-03', 40.65, 40.87, 36.82, 37.55, 45210000, -0.064, 0, 1)\n",
      "('2022-03-04', 36.63, 37.42, 33.36, 34.77, 47010000, -0.074, 0, 2)\n",
      "('2022-03-07', 34.82, 35.6, 29.5, 29.58, 50000000, -0.149, 0, 3)\n",
      "('2022-03-08', 29.67, 34.34, 28.48, 31.16, 68160000, 0.053, 1, 0)\n",
      "('2022-03-09', 34.12, 35.66, 33.07, 34.93, 45910000, 0.121, 2, 0)\n",
      "('2022-03-10', 33.07, 33.2, 30.8, 32.75, 43590000, -0.062, 0, 1)\n",
      "('2022-03-11', 34.16, 34.42, 30.5, 30.69, 34120000, -0.063, 0, 2)\n",
      "('2022-03-14', 30.43, 30.8, 27.3, 27.91, 49130000, -0.091, 0, 3)\n",
      "('2022-03-15', 28.47, 31.66, 28.02, 31.51, 41770000, 0.129, 1, 0)\n"
     ]
    }
   ],
   "source": [
    "import FinanceDataReader as fdr\n",
    "\n",
    "code = \"SOXL\"\n",
    "df = fdr.DataReader(code,start='2022-03-01', end='2022-03-16')\n",
    "df = df.astype({'Volume':'int'})\n",
    "\n",
    "Date    = [x.strftime('%Y-%m-%d') for x in df.index]\n",
    "Change  = [round(x,3) for x in df['Change']]\n",
    "\n",
    "cnt = len(Date)\n",
    "Up  = [0]*cnt\n",
    "Dn  = [0]*cnt\n",
    "\n",
    "for i in range(1,cnt) :\n",
    "    if df['Close'][i] <  df['Close'][i-1] : Dn[i] = Dn[i-1] + 1 \n",
    "    if df['Close'][i] >= df['Close'][i-1] : Up[i] = Up[i-1] + 1 \n",
    "\n",
    "col = ['Date','Open','High','Low','Close','Volume','Change','Up','Dn']\n",
    "my_data = list(zip(Date,df['Open'],df['High'],df['Low'],df['Close'],df['Volume'],Change,Up,Dn))\n",
    "\n",
    "for x in my_data : print(x)\n",
    "\n",
    "\n"
   ]
  },
  {
   "cell_type": "code",
   "execution_count": null,
   "metadata": {},
   "outputs": [],
   "source": [
    "# data_field  = list(df.columns)\n",
    "# data_field.insert(0,'Date')\n",
    "# data_index  = [x.strftime('%Y-%m-%d') for x in df.index]\n",
    "# df = df.astype({'Volume':'int'})\n",
    "# mydata      = df.to_dict('series')\n",
    "\n",
    "# data_db_in  = list(zip(data_index, df['Close'], df['Open'], df['High'], df['Low'], df['Volume'], df['Change'] ))\n",
    "\n",
    "# print(f\"{data_field[0]:>10s}\",f\"{data_field[1]:>10s}\",f\"{data_field[2]:>10s}\",f\"{data_field[3]:>10s}\",f\"{data_field[4]:>10s}\",f\"{data_field[5]:>10s}\",f\"{data_field[6]:>10s}\")\n",
    "# for row in data_db_in :\n",
    "    # print(f\"{row[0]:10s}\", f\"{row[1]:10.2f}\", f\"{row[2]:10.2f}\", f\"{row[3]:10.2f}\", f\"{row[4]:10.2f}\", f\"{row[5]:10d}\", f\"{row[6]*100:10.2f}\")"
   ]
  }
 ],
 "metadata": {
  "interpreter": {
   "hash": "805f11c72160c9142408c26b3a0b7b4214d8a6956988520a24685f08e83b9fca"
  },
  "kernelspec": {
   "display_name": "Python 3.9.5 32-bit",
   "name": "python3"
  },
  "language_info": {
   "codemirror_mode": {
    "name": "ipython",
    "version": 3
   },
   "file_extension": ".py",
   "mimetype": "text/x-python",
   "name": "python",
   "nbconvert_exporter": "python",
   "pygments_lexer": "ipython3",
   "version": "3.9.5"
  },
  "orig_nbformat": 4
 },
 "nbformat": 4,
 "nbformat_minor": 2
}
