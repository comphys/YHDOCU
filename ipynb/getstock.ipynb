{
 "cells": [
  {
   "cell_type": "markdown",
   "metadata": {},
   "source": [
    "주식정보 가져오기 : financeDatareader "
   ]
  },
  {
   "cell_type": "code",
   "execution_count": 29,
   "metadata": {},
   "outputs": [
    {
     "data": {
      "text/plain": [
       "[['2022-10-20', 7.7, 8.42, 7.59, 7.7, 170614600, nan, 1, 0],\n",
       " ['2022-10-21', 7.65, 8.64, 7.55, 8.58, 177518600, 0.1143, 2, 0],\n",
       " ['2022-10-24', 8.64, 8.81, 8.08, 8.68, 147205700, 0.0117, 3, 0],\n",
       " ['2022-10-25', 8.8, 9.47, 8.75, 9.26, 127146900, 0.0668, 4, 0],\n",
       " ['2022-10-26', 8.74, 9.67, 8.55, 9.01, 143571600, -0.027, 0, 1],\n",
       " ['2022-10-27', 9.16, 9.44, 8.48, 8.52, 129662300, -0.0544, 0, 2],\n",
       " ['2022-10-28', 8.56, 9.56, 8.49, 9.5, 128759900, 0.115, 1, 0],\n",
       " ['2022-10-31', 9.3, 9.35, 8.75, 8.92, 118351000, -0.0611, 0, 1],\n",
       " ['2022-11-01', 9.41, 9.52, 8.94, 9.18, 101167256, 0.0291, 1, 0]]"
      ]
     },
     "execution_count": 29,
     "metadata": {},
     "output_type": "execute_result"
    }
   ],
   "source": [
    "import FinanceDataReader as fdr\n",
    "\n",
    "code = \"SOXL\"\n",
    "df = fdr.DataReader(code,start='2022-10-20')\n",
    "# open, high, low, close, Adj Close, Volume\n",
    "\n",
    "df['Str_Date']  = df.index.strftime('%Y-%m-%d') \n",
    "\n",
    "df['Change'] = 0.0\n",
    "df['Up']     = 0\n",
    "df['Dn']     = 0\n",
    "\n",
    "df['Open']  = round(df['Open'],2)\n",
    "df['High']  = round(df['High'],2)\n",
    "df['Low']   = round(df['Low'],2)\n",
    "df['Close'] = round(df['Close'],2)\n",
    "df['Ch']= round(df['Close'].diff(periods=1)/df['Close'].shift(1),4)\n",
    "\n",
    "df = df[['Str_Date','Open','High','Low','Close','Volume','Ch','Up','Dn']]\n",
    "dflist = df.values.tolist()\n",
    "\n",
    "dflist[0][7] = 1\n",
    "dflist[0][8] = 0\n",
    "\n",
    "for i in range(1,len(df['Str_Date'])) :\n",
    "    dflist[i][7]  = dflist[i-1][7]+1 if dflist[i][4] >= dflist[i-1][4] else 0\n",
    "    dflist[i][8]  = dflist[i-1][8]+1 if dflist[i][4] <  dflist[i-1][4] else 0\n",
    "\n",
    "dflist"
   ]
  }
 ],
 "metadata": {
  "kernelspec": {
   "display_name": "Python 3.9.5 32-bit",
   "language": "python",
   "name": "python3"
  },
  "language_info": {
   "codemirror_mode": {
    "name": "ipython",
    "version": 3
   },
   "file_extension": ".py",
   "mimetype": "text/x-python",
   "name": "python",
   "nbconvert_exporter": "python",
   "pygments_lexer": "ipython3",
   "version": "3.9.5"
  },
  "orig_nbformat": 4,
  "vscode": {
   "interpreter": {
    "hash": "16a1bf9891e55cb9d59b6e72e9daba4d5e4b2f89d5ce3a1e1feef0aaadb1729a"
   }
  }
 },
 "nbformat": 4,
 "nbformat_minor": 2
}
