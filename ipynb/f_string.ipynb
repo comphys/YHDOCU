{
 "cells": [
  {
   "cell_type": "code",
   "execution_count": 13,
   "source": [
    "number = 1111112.340\r\n",
    "number1 = 123232313123123\r\n",
    "print(f\"{number:20,.3f}\")\r\n",
    "print(f\"{number1:3d}\")"
   ],
   "outputs": [
    {
     "output_type": "stream",
     "name": "stdout",
     "text": [
      "       1,111,112.340\n",
      "123232313123123\n"
     ]
    }
   ],
   "metadata": {}
  }
 ],
 "metadata": {
  "orig_nbformat": 4,
  "language_info": {
   "name": "python",
   "version": "3.9.5",
   "mimetype": "text/x-python",
   "codemirror_mode": {
    "name": "ipython",
    "version": 3
   },
   "pygments_lexer": "ipython3",
   "nbconvert_exporter": "python",
   "file_extension": ".py"
  },
  "kernelspec": {
   "name": "python3",
   "display_name": "Python 3.9.5 32-bit"
  },
  "interpreter": {
   "hash": "805f11c72160c9142408c26b3a0b7b4214d8a6956988520a24685f08e83b9fca"
  }
 },
 "nbformat": 4,
 "nbformat_minor": 2
}