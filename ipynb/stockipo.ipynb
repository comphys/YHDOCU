{
 "cells": [
  {
   "cell_type": "code",
   "execution_count": null,
   "metadata": {},
   "outputs": [],
   "source": [
    "# 주가 가져오기 \n",
    "import urllib.request as ul\n",
    "import json\n",
    "\n",
    "my_app_key = \"92DC8890E1874E1D97EE34387D72F152\"\n",
    "symbol = \"TQQQ\"\n",
    "start_date = \"2021-03-01\"\n",
    "end_date = \"2022-03-11\"\n",
    "url  = 'https://api.stockdio.com/data/financial/prices/v1/GetHistoricalPrices?app-key='\n",
    "url += my_app_key \n",
    "url += '&stockExchange=USA&symbol='\n",
    "url += f\"{symbol}&from={start_date}\"\n",
    "if end_date : url += f\"&to={end_date}\"\n",
    "\n",
    "data = ul.urlopen(url).read()\n",
    "mydata = json.loads(data)\n",
    "\n",
    "col = mydata['data']['prices']['columns']\n",
    "rst = mydata['data']['prices']['values']\n",
    "\n",
    "rst2 = [ [x[0][:10],float(x[1]),float(x[2]),float(x[3]),float(x[4]),int(x[5]),0.0] for x in rst]\n",
    "\n",
    "for i in range(1,len(rst2)) : \n",
    "    rst2[i][6] = round((rst2[i][4] - rst2[i-1][4])/rst2[i-1][1]*100,1)\n",
    "\n",
    "rst3 = { x[0]: x[1:] for x in rst2 }\n",
    "print(col)\n",
    "for x in rst3 : print(rst3[x])\n",
    "    # print(f\"{x[0]:10s} {x[1]:7.2f} {x[2]:7.2f} {x[3]:7.2f} {x[4]:7.2f} {x[5]:>10}\")"
   ]
  }
 ],
 "metadata": {
  "interpreter": {
   "hash": "805f11c72160c9142408c26b3a0b7b4214d8a6956988520a24685f08e83b9fca"
  },
  "kernelspec": {
   "display_name": "Python 3.9.5 32-bit",
   "language": "python",
   "name": "python3"
  },
  "language_info": {
   "codemirror_mode": {
    "name": "ipython",
    "version": 3
   },
   "file_extension": ".py",
   "mimetype": "text/x-python",
   "name": "python",
   "nbconvert_exporter": "python",
   "pygments_lexer": "ipython3",
   "version": "3.9.5"
  },
  "orig_nbformat": 4
 },
 "nbformat": 4,
 "nbformat_minor": 2
}
