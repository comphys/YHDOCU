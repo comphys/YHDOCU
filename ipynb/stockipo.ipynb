{
 "cells": [
  {
   "cell_type": "code",
   "execution_count": null,
   "metadata": {},
   "outputs": [],
   "source": [
    "# 주가 가져오기 \n",
    "import urllib.request as ul\n",
    "import json\n",
    "\n",
    "my_app_key = \"92DC8890E1874E1D97EE34387D72F152\"\n",
    "symbol = \"soxl\"\n",
    "start_date = \"2020-09-01\"\n",
    "end_date = \"2021-10-07\"\n",
    "url  = 'https://api.stockdio.com/data/financial/prices/v1/GetHistoricalPrices?app-key='\n",
    "url += my_app_key \n",
    "url += '&stockExchange=USA&symbol='\n",
    "url += f\"{symbol}&from={start_date}&to={end_date}\"\n",
    "\n",
    "data = ul.urlopen(url).read()\n",
    "mydata = json.loads(data)\n",
    "\n",
    "col = mydata['data']['prices']['columns']\n",
    "aaa = mydata['data']['prices']['values']\n",
    "for x in aaa : x[0] = x[0][:10]\n",
    "print(col)\n",
    "for x in aaa :\n",
    "    print(f\"{x[0]:10s} {x[1]:7.2f} {x[2]:7.2f} {x[3]:7.2f} {x[4]:7.2f} {x[5]:>10}\")"
   ]
  }
 ],
 "metadata": {
  "language_info": {
   "name": "python"
  },
  "orig_nbformat": 4
 },
 "nbformat": 4,
 "nbformat_minor": 2
}
