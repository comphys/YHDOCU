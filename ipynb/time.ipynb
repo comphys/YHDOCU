{
 "cells": [
  {
   "cell_type": "markdown",
   "source": [
    "### 시간대 설정하기 "
   ],
   "metadata": {}
  },
  {
   "cell_type": "code",
   "execution_count": null,
   "source": [
    "from datetime import datetime\r\n",
    "from pytz import timezone\r\n",
    "\r\n",
    "kst = timezone('Asia/Seoul')\r\n",
    "cur_time = datetime.now(kst)\r\n",
    "print(cur_time)\r\n",
    "ts = int(datetime.now().timestamp())\r\n",
    "time_now = datetime.fromtimestamp(ts,kst).strftime(\"%y/%m/%d %H:%M:%S\")\r\n",
    "\r\n",
    "print(time_now)"
   ],
   "outputs": [],
   "metadata": {}
  },
  {
   "cell_type": "code",
   "execution_count": 11,
   "source": [
    "from datetime import datetime\r\n",
    "from pytz import timezone\r\n",
    "\r\n",
    "kst = timezone('Asia/Seoul')\r\n",
    "ts = int(datetime.now().timestamp())\r\n",
    "a=datetime.fromtimestamp(ts,kst).weekday()\r\n",
    "print(a)\r\n"
   ],
   "outputs": [
    {
     "output_type": "stream",
     "name": "stdout",
     "text": [
      "2\n"
     ]
    }
   ],
   "metadata": {}
  },
  {
   "cell_type": "code",
   "execution_count": 8,
   "source": [
    "from datetime import date\r\n",
    "s = '2021-09-01'\r\n",
    "e = '2021-09-02'\r\n",
    "year = s[0:4]\r\n",
    "month = s[5:7]\r\n",
    "day = s[8:10]\r\n",
    "\r\n",
    "d0 = date(int(s[0:4]),int(s[5:7]),int(s[8:10]))\r\n",
    "d1 = date(int(e[0:4]),int(e[5:7]),int(e[8:10]))\r\n",
    "\r\n",
    "delta = d1-d0\r\n",
    "print(delta.days)\r\n",
    "\r\n"
   ],
   "outputs": [
    {
     "output_type": "stream",
     "name": "stdout",
     "text": [
      "1\n"
     ]
    }
   ],
   "metadata": {}
  }
 ],
 "metadata": {
  "orig_nbformat": 4,
  "language_info": {
   "name": "python",
   "version": "3.9.5",
   "mimetype": "text/x-python",
   "codemirror_mode": {
    "name": "ipython",
    "version": 3
   },
   "pygments_lexer": "ipython3",
   "nbconvert_exporter": "python",
   "file_extension": ".py"
  },
  "kernelspec": {
   "name": "python3",
   "display_name": "Python 3.9.5 32-bit"
  },
  "interpreter": {
   "hash": "805f11c72160c9142408c26b3a0b7b4214d8a6956988520a24685f08e83b9fca"
  }
 },
 "nbformat": 4,
 "nbformat_minor": 2
}