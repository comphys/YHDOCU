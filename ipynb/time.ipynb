{
 "cells": [
  {
   "cell_type": "markdown",
   "metadata": {},
   "source": [
    "### 시간대 설정하기 "
   ]
  },
  {
   "cell_type": "code",
   "execution_count": null,
   "metadata": {},
   "outputs": [],
   "source": [
    "from datetime import datetime\n",
    "from pytz import timezone\n",
    "\n",
    "kst = timezone('Asia/Seoul')\n",
    "cur_time = datetime.now(kst)\n",
    "print(cur_time)\n",
    "ts = int(datetime.now().timestamp())\n",
    "time_now = datetime.fromtimestamp(ts,kst).strftime(\"%y/%m/%d %H:%M:%S\")\n",
    "\n",
    "print(time_now)"
   ]
  },
  {
   "cell_type": "code",
   "execution_count": 11,
   "metadata": {},
   "outputs": [
    {
     "name": "stdout",
     "output_type": "stream",
     "text": [
      "2\n"
     ]
    }
   ],
   "source": [
    "from datetime import datetime\n",
    "from pytz import timezone\n",
    "\n",
    "kst = timezone('Asia/Seoul')\n",
    "ts = int(datetime.now().timestamp())\n",
    "a=datetime.fromtimestamp(ts,kst).weekday()\n",
    "print(a)\n"
   ]
  },
  {
   "cell_type": "code",
   "execution_count": 8,
   "metadata": {},
   "outputs": [
    {
     "name": "stdout",
     "output_type": "stream",
     "text": [
      "1\n"
     ]
    }
   ],
   "source": [
    "from datetime import date\n",
    "s = '2021-09-01'\n",
    "e = '2021-09-02'\n",
    "year = s[0:4]\n",
    "month = s[5:7]\n",
    "day = s[8:10]\n",
    "\n",
    "d0 = date(int(s[0:4]),int(s[5:7]),int(s[8:10]))\n",
    "d1 = date(int(e[0:4]),int(e[5:7]),int(e[8:10]))\n",
    "\n",
    "delta = d1-d0\n",
    "print(delta.days)\n",
    "\n"
   ]
  },
  {
   "cell_type": "code",
   "execution_count": 7,
   "metadata": {},
   "outputs": [
    {
     "name": "stdout",
     "output_type": "stream",
     "text": [
      "6\n",
      "2022-01-17\n"
     ]
    }
   ],
   "source": [
    "from datetime import datetime,timedelta\n",
    "date = '2022-01-16'\n",
    "datetime_date = datetime.strptime(date,'%Y-%m-%d')\n",
    "aa = datetime_date.weekday()\n",
    "print(aa)\n",
    "next_monday = datetime_date + timedelta(days=1)\n",
    "print(next_monday.strftime('%Y-%m-%d'))"
   ]
  }
 ],
 "metadata": {
  "interpreter": {
   "hash": "805f11c72160c9142408c26b3a0b7b4214d8a6956988520a24685f08e83b9fca"
  },
  "kernelspec": {
   "display_name": "Python 3.9.5 32-bit",
   "name": "python3"
  },
  "language_info": {
   "codemirror_mode": {
    "name": "ipython",
    "version": 3
   },
   "file_extension": ".py",
   "mimetype": "text/x-python",
   "name": "python",
   "nbconvert_exporter": "python",
   "pygments_lexer": "ipython3",
   "version": "3.9.5"
  },
  "orig_nbformat": 4
 },
 "nbformat": 4,
 "nbformat_minor": 2
}
