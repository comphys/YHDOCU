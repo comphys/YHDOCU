{
 "cells": [
  {
   "cell_type": "code",
   "execution_count": 13,
   "source": [
    "from datetime import datetime\r\n",
    "import time\r\n",
    "\r\n",
    "s=\"2021-09-11\"\r\n",
    "chk_time = int(time.mktime(datetime.strptime(s,\"%Y-%m-%d\").timetuple()))\r\n",
    "cur_time = int(datetime.now().timestamp())\r\n",
    "\r\n",
    "diff = cur_time - chk_time\r\n",
    "\r\n",
    "hour = int(diff/(60*60))\r\n",
    "print(hour) "
   ],
   "outputs": [
    {
     "output_type": "stream",
     "name": "stdout",
     "text": [
      "17\n"
     ]
    }
   ],
   "metadata": {}
  },
  {
   "cell_type": "markdown",
   "source": [
    "주식장 업데이트 여부를 확인을 위한 시간 차이는 > 28 임  "
   ],
   "metadata": {}
  }
 ],
 "metadata": {
  "orig_nbformat": 4,
  "language_info": {
   "name": "python",
   "version": "3.9.5",
   "mimetype": "text/x-python",
   "codemirror_mode": {
    "name": "ipython",
    "version": 3
   },
   "pygments_lexer": "ipython3",
   "nbconvert_exporter": "python",
   "file_extension": ".py"
  },
  "kernelspec": {
   "name": "python3",
   "display_name": "Python 3.9.5 32-bit"
  },
  "interpreter": {
   "hash": "805f11c72160c9142408c26b3a0b7b4214d8a6956988520a24685f08e83b9fca"
  }
 },
 "nbformat": 4,
 "nbformat_minor": 2
}