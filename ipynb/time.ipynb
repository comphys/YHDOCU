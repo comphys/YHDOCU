{
 "cells": [
  {
   "cell_type": "markdown",
   "source": [
    "### 시간대 설정하기 "
   ],
   "metadata": {}
  },
  {
   "cell_type": "code",
   "execution_count": 35,
   "source": [
    "from datetime import datetime\r\n",
    "from pytz import timezone\r\n",
    "\r\n",
    "kst = timezone('Asia/Seoul')\r\n",
    "cur_time = datetime.now(kst)\r\n",
    "print(cur_time)\r\n",
    "ts = int(datetime.now().timestamp())\r\n",
    "time_now = datetime.fromtimestamp(ts,kst).strftime(\"%y/%m/%d %H:%M:%S\")\r\n",
    "\r\n",
    "print(time_now)"
   ],
   "outputs": [
    {
     "output_type": "stream",
     "name": "stdout",
     "text": [
      "2021-09-11 22:55:15.377477+09:00\n",
      "21/09/11 22:55:15\n"
     ]
    }
   ],
   "metadata": {}
  }
 ],
 "metadata": {
  "orig_nbformat": 4,
  "language_info": {
   "name": "python",
   "version": "3.9.5",
   "mimetype": "text/x-python",
   "codemirror_mode": {
    "name": "ipython",
    "version": 3
   },
   "pygments_lexer": "ipython3",
   "nbconvert_exporter": "python",
   "file_extension": ".py"
  },
  "kernelspec": {
   "name": "python3",
   "display_name": "Python 3.9.5 32-bit"
  },
  "interpreter": {
   "hash": "805f11c72160c9142408c26b3a0b7b4214d8a6956988520a24685f08e83b9fca"
  }
 },
 "nbformat": 4,
 "nbformat_minor": 2
}