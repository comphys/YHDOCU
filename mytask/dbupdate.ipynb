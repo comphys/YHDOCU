{
 "cells": [
  {
   "cell_type": "code",
   "execution_count": 5,
   "metadata": {},
   "outputs": [],
   "source": [
    "from myutils.DB import DB\n",
    "\n",
    "mydb = DB('stocks')\n",
    "\n",
    "mydb.tbl = 'h_V_TEST_board'\n",
    "\n",
    "sss = mydb.exe(f\"SELECT add0,add15, sub17,add18 FROM {mydb.tbl} WHERE CAST(add18 as real)= 0 \")\n",
    "\n",
    "for s in sss :\n",
    "    현재손익 = float(s[1]) - float(s[2])\n",
    "    mydb.exe(f\"UPDATE {mydb.tbl} SET add18='{현재손익:.2f}' WHERE add0='{s[0]}'\")\n"
   ]
  }
 ],
 "metadata": {
  "kernelspec": {
   "display_name": "Python 3",
   "language": "python",
   "name": "python3"
  },
  "language_info": {
   "codemirror_mode": {
    "name": "ipython",
    "version": 3
   },
   "file_extension": ".py",
   "mimetype": "text/x-python",
   "name": "python",
   "nbconvert_exporter": "python",
   "pygments_lexer": "ipython3",
   "version": "3.9.6"
  },
  "orig_nbformat": 4,
  "vscode": {
   "interpreter": {
    "hash": "857c41e40e9b2d7d4084934fd60229bf79e89164671131811c7537d14f18c2e1"
   }
  }
 },
 "nbformat": 4,
 "nbformat_minor": 2
}
