{
 "cells": [
  {
   "cell_type": "code",
   "execution_count": 15,
   "metadata": {},
   "outputs": [
    {
     "name": "stdout",
     "output_type": "stream",
     "text": [
      "9.26\n",
      "8\n",
      "0\n"
     ]
    }
   ],
   "source": [
    "from myutils.DB import DB\n",
    "\n",
    "mydb = DB('stocks')\n",
    "mydb.tbl, mydb.wre = ('h_stockHistory_board',f\"add1='SOXL'\")\n",
    "maxday = mydb.get(\"max(add0)\",many=1,assoc=False)\n",
    "\n",
    "mydb.wre = f\"add1='SOXL' and add0='{maxday}'\"\n",
    "(clp,up,dn) = mydb.get('add3,add9,add10',many=1,assoc=False)\n",
    "\n",
    "print(float(clp))\n",
    "print(int(up)+1)\n",
    "print(dn)"
   ]
  }
 ],
 "metadata": {
  "kernelspec": {
   "display_name": "Python 3.9.5 32-bit",
   "language": "python",
   "name": "python3"
  },
  "language_info": {
   "codemirror_mode": {
    "name": "ipython",
    "version": 3
   },
   "file_extension": ".py",
   "mimetype": "text/x-python",
   "name": "python",
   "nbconvert_exporter": "python",
   "pygments_lexer": "ipython3",
   "version": "3.9.5"
  },
  "orig_nbformat": 4,
  "vscode": {
   "interpreter": {
    "hash": "16a1bf9891e55cb9d59b6e72e9daba4d5e4b2f89d5ce3a1e1feef0aaadb1729a"
   }
  }
 },
 "nbformat": 4,
 "nbformat_minor": 2
}
